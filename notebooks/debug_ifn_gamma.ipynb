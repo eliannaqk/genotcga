{
 "cells": [
  {
   "cell_type": "code",
   "execution_count": null,
   "id": "a3d54f2e",
   "metadata": {},
   "outputs": [],
   "source": []
  }
 ],
 "metadata": {
  "kernelspec": {
   "display_name": "eqk_env",
   "language": "python",
   "name": "eqk_env"
  },
  "language_info": {
   "name": "python",
   "version": "3.11.3"
  }
 },
 "nbformat": 4,
 "nbformat_minor": 5
}
